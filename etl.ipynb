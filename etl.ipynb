{
 "cells": [
  {
   "cell_type": "markdown",
   "metadata": {
    "editable": true
   },
   "source": [
    "# ETL Processes\n",
    "Use this notebook to develop the ETL process for each of your tables before completing the `etl.py` file to load the whole datasets."
   ]
  },
  {
   "cell_type": "code",
   "execution_count": 1,
   "metadata": {
    "editable": true
   },
   "outputs": [],
   "source": [
    "import os\n",
    "import glob\n",
    "import psycopg2\n",
    "import re\n",
    "\n",
    "import pandas as pd\n",
    "from sql_queries import *"
   ]
  },
  {
   "source": [
    "conn = psycopg2.connect(\"host=127.0.0.1 user=postgres password=nubank\")\n",
    "conn.set_session(autocommit=True)\n",
    "cur = conn.cursor()"
   ],
   "cell_type": "code",
   "metadata": {
    "editable": true
   },
   "execution_count": 2,
   "outputs": []
  },
  {
   "cell_type": "code",
   "execution_count": 3,
   "metadata": {},
   "outputs": [
    {
     "output_type": "error",
     "ename": "ObjectInUse",
     "evalue": "database \"nubank\" is being accessed by other users\nDETAIL:  There are 3 other sessions using the database.\n",
     "traceback": [
      "\u001b[1;31m---------------------------------------------------------------------------\u001b[0m",
      "\u001b[1;31mObjectInUse\u001b[0m                               Traceback (most recent call last)",
      "\u001b[1;32m<ipython-input-3-da260512008f>\u001b[0m in \u001b[0;36m<module>\u001b[1;34m\u001b[0m\n\u001b[1;32m----> 1\u001b[1;33m \u001b[0mcur\u001b[0m\u001b[1;33m.\u001b[0m\u001b[0mexecute\u001b[0m\u001b[1;33m(\u001b[0m\u001b[1;34m\"DROP DATABASE IF EXISTS nubank\"\u001b[0m\u001b[1;33m)\u001b[0m\u001b[1;33m\u001b[0m\u001b[1;33m\u001b[0m\u001b[0m\n\u001b[0m\u001b[0;32m      2\u001b[0m \u001b[0mcur\u001b[0m\u001b[1;33m.\u001b[0m\u001b[0mexecute\u001b[0m\u001b[1;33m(\u001b[0m\u001b[1;34m\"CREATE DATABASE nubank WITH ENCODING 'utf8' TEMPLATE template0\"\u001b[0m\u001b[1;33m)\u001b[0m\u001b[1;33m\u001b[0m\u001b[1;33m\u001b[0m\u001b[0m\n\u001b[0;32m      3\u001b[0m \u001b[1;33m\u001b[0m\u001b[0m\n\u001b[0;32m      4\u001b[0m \u001b[1;31m# close connection to default database\u001b[0m\u001b[1;33m\u001b[0m\u001b[1;33m\u001b[0m\u001b[1;33m\u001b[0m\u001b[0m\n\u001b[0;32m      5\u001b[0m \u001b[0mconn\u001b[0m\u001b[1;33m.\u001b[0m\u001b[0mclose\u001b[0m\u001b[1;33m(\u001b[0m\u001b[1;33m)\u001b[0m\u001b[1;33m\u001b[0m\u001b[1;33m\u001b[0m\u001b[0m\n",
      "\u001b[1;31mObjectInUse\u001b[0m: database \"nubank\" is being accessed by other users\nDETAIL:  There are 3 other sessions using the database.\n"
     ]
    }
   ],
   "source": [
    "cur.execute(\"DROP DATABASE IF EXISTS nubank\")\n",
    "cur.execute(\"CREATE DATABASE nubank WITH ENCODING 'utf8' TEMPLATE template0\")\n",
    "\n",
    "# close connection to default database\n",
    "conn.close()    \n",
    "    \n",
    " # connect to sparkify database\n",
    "conn = psycopg2.connect(\"host=127.0.0.1 dbname=nubank user=postgres password=nubank\")\n",
    "cur = conn.cursor()"
   ]
  },
  {
   "source": [
    "conn = psycopg2.connect(\"host=127.0.0.1 dbname=nubank user=postgres password=nubank\")\n",
    "cur = conn.cursor()"
   ],
   "cell_type": "code",
   "metadata": {},
   "execution_count": 2,
   "outputs": []
  },
  {
   "cell_type": "code",
   "execution_count": 6,
   "metadata": {},
   "outputs": [],
   "source": [
    "for query in drop_table_queries:\n",
    "        cur.execute(query)\n",
    "        conn.commit()\n",
    "\n",
    "for query in create_table_queries:\n",
    "        cur.execute(query)\n",
    "        conn.commit()"
   ]
  },
  {
   "cell_type": "code",
   "execution_count": 7,
   "metadata": {
    "editable": true
   },
   "outputs": [
    {
     "output_type": "stream",
     "name": "stdout",
     "text": [
      "[('accounts_table',), ('city_table',), ('costumers_table',), ('country_table',), ('d_month_table',), ('d_time_table',), ('d_week_table',), ('d_weekday_table',), ('d_year_table',), ('pix_movements_table',), ('state_table',), ('transfer_ins_table',), ('transfer_outs_table',)]\n"
     ]
    }
   ],
   "source": [
    "#VERIFY THE DB TABLES\n",
    "cur.execute(\"select relname from pg_class where relkind='r' and relname !~ '^(pg_|sql_)';\")\n",
    "print(cur.fetchall())"
   ]
  },
  {
   "cell_type": "code",
   "execution_count": 3,
   "metadata": {},
   "outputs": [],
   "source": [
    "def insert_function(data, query):\n",
    "        for i, row in data.iterrows():\n",
    "                cur.execute(query, list(row))\n",
    "        conn.commit()\n"
   ]
  },
  {
   "cell_type": "markdown",
   "metadata": {
    "editable": true
   },
   "source": [
    "# Process table data\n",
    "In this first part, you'll perform ETL on the tables"
   ]
  },
  {
   "source": [
    "### Insert data in accounts_table"
   ],
   "cell_type": "markdown",
   "metadata": {}
  },
  {
   "cell_type": "code",
   "execution_count": 9,
   "metadata": {},
   "outputs": [],
   "source": [
    "accounts_df = pd.read_csv(\"./tables/tables/accounts_table.csv\")\n",
    "insert_function(accounts_df, accounts_table_insert)"
   ]
  },
  {
   "source": [
    "### Insert data in city_table"
   ],
   "cell_type": "markdown",
   "metadata": {}
  },
  {
   "source": [
    "city_df = pd.read_csv(\"./tables/tables/city_table.csv\")\n",
    "city_df = city_df[['city_id','city','state_id']]\n",
    "insert_function(city_df, city_table_insert)"
   ],
   "cell_type": "code",
   "metadata": {},
   "execution_count": 10,
   "outputs": []
  },
  {
   "source": [
    "### Insert data in costumers_table"
   ],
   "cell_type": "markdown",
   "metadata": {}
  },
  {
   "source": [
    "costumers_df = pd.read_csv(\"./tables/tables/costumers_table.csv\")\n",
    "costumers_df.head()\n",
    "insert_function(costumers_df, costumers_table_insert)"
   ],
   "cell_type": "code",
   "metadata": {},
   "execution_count": 12,
   "outputs": []
  },
  {
   "source": [
    "### Insert data in country_table"
   ],
   "cell_type": "markdown",
   "metadata": {}
  },
  {
   "cell_type": "code",
   "execution_count": 13,
   "metadata": {},
   "outputs": [],
   "source": [
    "country_df = pd.read_csv(\"./tables/tables/country_table.csv\")\n",
    "country_df = country_df[[\"country_id\", \"country\"]]\n",
    "insert_function(country_df, country_table_insert)"
   ]
  },
  {
   "source": [
    "### Insert data in d_month_table"
   ],
   "cell_type": "markdown",
   "metadata": {}
  },
  {
   "cell_type": "code",
   "execution_count": 14,
   "metadata": {},
   "outputs": [],
   "source": [
    "d_month_table_df = pd.read_csv(\"./tables/tables/d_month_table.csv\")\n",
    "insert_function(d_month_table_df, d_month_table_insert)"
   ]
  },
  {
   "source": [
    "### Insert data in d_time_table"
   ],
   "cell_type": "markdown",
   "metadata": {}
  },
  {
   "cell_type": "code",
   "execution_count": 15,
   "metadata": {},
   "outputs": [],
   "source": [
    "d_time_table_df = pd.read_csv(\"./tables/tables/d_time_table.csv\")\n",
    "tmp_df = \"./tables/tables/tmp.csv\"\n",
    "d_time_table_df.to_csv(tmp_df,index=False , header=False)\n",
    "f = open(tmp_df, 'r')\n",
    "cur.copy_from(f, \"d_time_table\", sep=\",\")\n",
    "conn.commit()"
   ]
  },
  {
   "source": [
    "### Insert data in d_week_table"
   ],
   "cell_type": "markdown",
   "metadata": {}
  },
  {
   "cell_type": "code",
   "execution_count": 17,
   "metadata": {},
   "outputs": [
    {
     "output_type": "error",
     "ename": "UniqueViolation",
     "evalue": "duplicate key value violates unique constraint \"d_week_table_pkey\"\nDETAIL:  Key (weekday_id)=(102414000) already exists.\n",
     "traceback": [
      "\u001b[1;31m---------------------------------------------------------------------------\u001b[0m",
      "\u001b[1;31mUniqueViolation\u001b[0m                           Traceback (most recent call last)",
      "\u001b[1;32m<ipython-input-17-c3f6bcfbb0a7>\u001b[0m in \u001b[0;36m<module>\u001b[1;34m\u001b[0m\n\u001b[0;32m      1\u001b[0m \u001b[0md_week_table_df\u001b[0m \u001b[1;33m=\u001b[0m \u001b[0mpd\u001b[0m\u001b[1;33m.\u001b[0m\u001b[0mread_csv\u001b[0m\u001b[1;33m(\u001b[0m\u001b[1;34m\"./tables/tables/d_week_table.csv\"\u001b[0m\u001b[1;33m)\u001b[0m\u001b[1;33m\u001b[0m\u001b[1;33m\u001b[0m\u001b[0m\n\u001b[1;32m----> 2\u001b[1;33m \u001b[0minsert_function\u001b[0m\u001b[1;33m(\u001b[0m\u001b[0md_week_table_df\u001b[0m\u001b[1;33m,\u001b[0m \u001b[0md_week_table_insert\u001b[0m\u001b[1;33m)\u001b[0m\u001b[1;33m\u001b[0m\u001b[1;33m\u001b[0m\u001b[0m\n\u001b[0m",
      "\u001b[1;32m<ipython-input-8-b45ed2aad834>\u001b[0m in \u001b[0;36minsert_function\u001b[1;34m(data, query)\u001b[0m\n\u001b[0;32m      1\u001b[0m \u001b[1;32mdef\u001b[0m \u001b[0minsert_function\u001b[0m\u001b[1;33m(\u001b[0m\u001b[0mdata\u001b[0m\u001b[1;33m,\u001b[0m \u001b[0mquery\u001b[0m\u001b[1;33m)\u001b[0m\u001b[1;33m:\u001b[0m\u001b[1;33m\u001b[0m\u001b[1;33m\u001b[0m\u001b[0m\n\u001b[0;32m      2\u001b[0m         \u001b[1;32mfor\u001b[0m \u001b[0mi\u001b[0m\u001b[1;33m,\u001b[0m \u001b[0mrow\u001b[0m \u001b[1;32min\u001b[0m \u001b[0mdata\u001b[0m\u001b[1;33m.\u001b[0m\u001b[0miterrows\u001b[0m\u001b[1;33m(\u001b[0m\u001b[1;33m)\u001b[0m\u001b[1;33m:\u001b[0m\u001b[1;33m\u001b[0m\u001b[1;33m\u001b[0m\u001b[0m\n\u001b[1;32m----> 3\u001b[1;33m                 \u001b[0mcur\u001b[0m\u001b[1;33m.\u001b[0m\u001b[0mexecute\u001b[0m\u001b[1;33m(\u001b[0m\u001b[0mquery\u001b[0m\u001b[1;33m,\u001b[0m \u001b[0mlist\u001b[0m\u001b[1;33m(\u001b[0m\u001b[0mrow\u001b[0m\u001b[1;33m)\u001b[0m\u001b[1;33m)\u001b[0m\u001b[1;33m\u001b[0m\u001b[1;33m\u001b[0m\u001b[0m\n\u001b[0m\u001b[0;32m      4\u001b[0m         \u001b[0mconn\u001b[0m\u001b[1;33m.\u001b[0m\u001b[0mcommit\u001b[0m\u001b[1;33m(\u001b[0m\u001b[1;33m)\u001b[0m\u001b[1;33m\u001b[0m\u001b[1;33m\u001b[0m\u001b[0m\n\u001b[0;32m      5\u001b[0m \u001b[1;31m#conn.close()\u001b[0m\u001b[1;33m\u001b[0m\u001b[1;33m\u001b[0m\u001b[1;33m\u001b[0m\u001b[0m\n",
      "\u001b[1;31mUniqueViolation\u001b[0m: duplicate key value violates unique constraint \"d_week_table_pkey\"\nDETAIL:  Key (weekday_id)=(102414000) already exists.\n"
     ]
    }
   ],
   "source": [
    "d_week_table_df = pd.read_csv(\"./tables/tables/d_week_table.csv\")\n",
    "insert_function(d_week_table_df, d_week_table_insert)"
   ]
  },
  {
   "source": [
    "### Insert data in d_weekday_table"
   ],
   "cell_type": "markdown",
   "metadata": {}
  },
  {
   "cell_type": "code",
   "execution_count": 4,
   "metadata": {},
   "outputs": [],
   "source": [
    "d_weekday_table_df = pd.read_csv(\"./tables/tables/d_weekday_table.csv\")\n",
    "insert_function(d_weekday_table_df, d_weekday_table_insert)"
   ]
  },
  {
   "source": [
    "### Insert data in d_year_table"
   ],
   "cell_type": "markdown",
   "metadata": {}
  },
  {
   "cell_type": "code",
   "execution_count": 5,
   "metadata": {},
   "outputs": [],
   "source": [
    "d_year_table_df = pd.read_csv(\"./tables/tables/d_year_table.csv\")\n",
    "insert_function(d_year_table_df, d_year_table_insert)"
   ]
  },
  {
   "source": [
    "### Insert data in state_table"
   ],
   "cell_type": "markdown",
   "metadata": {}
  },
  {
   "cell_type": "code",
   "execution_count": 6,
   "metadata": {},
   "outputs": [],
   "source": [
    "state_table_df = pd.read_csv(\"./tables/tables/state_table.csv\")\n",
    "state_table_df = state_table_df[[\"state_id\", \"state\", \"country_id\"]]\n",
    "insert_function(state_table_df, state_table_insert)"
   ]
  },
  {
   "source": [
    "### Insert data in pix_movements_table"
   ],
   "cell_type": "markdown",
   "metadata": {}
  },
  {
   "cell_type": "code",
   "execution_count": 7,
   "metadata": {},
   "outputs": [],
   "source": [
    "pix_movements_table_df = pd.read_csv(\"./tables/tables/pix_movements_table.csv\")\n",
    "pix_movements_table_df\n",
    "\n",
    "tmp_df = \"./tables/tables/tmp.csv\"\n",
    "pix_movements_table_df.to_csv(tmp_df,index=False , header=False)\n",
    "f = open(tmp_df, 'r')\n",
    "cur.copy_from(f, \"pix_movements_table\", sep=\",\")\n",
    "conn.commit()"
   ]
  },
  {
   "source": [
    "### Insert data in transfer_ins_table"
   ],
   "cell_type": "markdown",
   "metadata": {}
  },
  {
   "cell_type": "code",
   "execution_count": 8,
   "metadata": {},
   "outputs": [],
   "source": [
    "transfer_ins_table_df = pd.read_csv(\"./tables/tables/transfer_ins_table.csv\")\n",
    "tmp_df = \"./tables/tables/tmp.csv\"\n",
    "transfer_ins_table_df.to_csv(tmp_df,index=False , header=False)\n",
    "f = open(tmp_df, 'r')\n",
    "cur.copy_from(f, \"transfer_ins_table\", sep=\",\")\n",
    "conn.commit()"
   ]
  },
  {
   "source": [
    "### Insert data in transfer_outs_table"
   ],
   "cell_type": "markdown",
   "metadata": {}
  },
  {
   "cell_type": "code",
   "execution_count": 9,
   "metadata": {},
   "outputs": [],
   "source": [
    "transfer_outs_table_df = pd.read_csv(\"./tables/tables/transfer_outs_table.csv\")\n",
    "tmp_df = \"./tables/tables/tmp.csv\"\n",
    "transfer_outs_table_df.to_csv(tmp_df,index=False , header=False)\n",
    "f = open(tmp_df, 'r')\n",
    "cur.copy_from(f, \"transfer_outs_table\", sep=\",\")\n",
    "conn.commit()"
   ]
  },
  {
   "source": [
    "## CLOSE CONNECTION"
   ],
   "cell_type": "markdown",
   "metadata": {}
  },
  {
   "cell_type": "code",
   "execution_count": 10,
   "metadata": {},
   "outputs": [],
   "source": [
    "conn.close()"
   ]
  },
  {
   "cell_type": "code",
   "execution_count": 9,
   "metadata": {},
   "outputs": [
    {
     "output_type": "stream",
     "name": "stdout",
     "text": [
      "c:\\Users\\Filipe\\Documents\\Nubank-Analytics-Engineer-Case\\tables\\tables\\accounts_table.csv\nc:\\Users\\Filipe\\Documents\\Nubank-Analytics-Engineer-Case\\tables\\tables\\city_table.csv\nError: Inserting Rows\ninvalid input syntax for type integer: \"SÃ£o JosÃ© do Goiabal\"\nCONTEXT:  COPY city_table, line 2, column city_id: \"SÃ£o JosÃ© do Goiabal\"\n\nc:\\Users\\Filipe\\Documents\\Nubank-Analytics-Engineer-Case\\tables\\tables\\costumers_table.csv\nError: Inserting Rows\ncurrent transaction is aborted, commands ignored until end of transaction block\n\nc:\\Users\\Filipe\\Documents\\Nubank-Analytics-Engineer-Case\\tables\\tables\\country_table.csv\nError: Inserting Rows\ncurrent transaction is aborted, commands ignored until end of transaction block\n\nc:\\Users\\Filipe\\Documents\\Nubank-Analytics-Engineer-Case\\tables\\tables\\d_month_table.csv\nError: Inserting Rows\ncurrent transaction is aborted, commands ignored until end of transaction block\n\nc:\\Users\\Filipe\\Documents\\Nubank-Analytics-Engineer-Case\\tables\\tables\\d_time_table.csv\nError: Inserting Rows\ncurrent transaction is aborted, commands ignored until end of transaction block\n\nc:\\Users\\Filipe\\Documents\\Nubank-Analytics-Engineer-Case\\tables\\tables\\d_weekday_table.csv\nError: Inserting Rows\ncurrent transaction is aborted, commands ignored until end of transaction block\n\nc:\\Users\\Filipe\\Documents\\Nubank-Analytics-Engineer-Case\\tables\\tables\\d_week_table.csv\nError: Inserting Rows\ncurrent transaction is aborted, commands ignored until end of transaction block\n\nc:\\Users\\Filipe\\Documents\\Nubank-Analytics-Engineer-Case\\tables\\tables\\d_year_table.csv\nError: Inserting Rows\ncurrent transaction is aborted, commands ignored until end of transaction block\n\nc:\\Users\\Filipe\\Documents\\Nubank-Analytics-Engineer-Case\\tables\\tables\\pix_movements_table.csv\nError: Inserting Rows\ncurrent transaction is aborted, commands ignored until end of transaction block\n\nc:\\Users\\Filipe\\Documents\\Nubank-Analytics-Engineer-Case\\tables\\tables\\state_table.csv\nError: Inserting Rows\ncurrent transaction is aborted, commands ignored until end of transaction block\n\nc:\\Users\\Filipe\\Documents\\Nubank-Analytics-Engineer-Case\\tables\\tables\\transfer_ins_table.csv\nError: Inserting Rows\ncurrent transaction is aborted, commands ignored until end of transaction block\n\nc:\\Users\\Filipe\\Documents\\Nubank-Analytics-Engineer-Case\\tables\\tables\\transfer_outs_table.csv\nError: Inserting Rows\ncurrent transaction is aborted, commands ignored until end of transaction block\n\n"
     ]
    }
   ],
   "source": [
    "\n",
    "\n",
    "\n",
    "for file in filepath:\n",
    "    print(file)\n",
    "    f = open(file, 'r')\n",
    "    x = os.path.basename(file).replace('.csv','')\n",
    "\n",
    "    copy_sql = \"\"\"\n",
    "           COPY %s FROM stdin WITH CSV HEADER\n",
    "           DELIMITER as ','\n",
    "           \"\"\"\n",
    "    tmp_df = \"./tables/tables/tmp.csv\"\n",
    "    df.to_csv(tmp_df,index=False , header=False)\n",
    "    f = open(file, 'r')\n",
    "    try:\n",
    "        \n",
    "        cur.copy_from(f, x, sep=\",\", columns=)\n",
    "        conn.commit()\n",
    "    except psycopg2.Error as e: \n",
    "        print(\"Error: Inserting Rows\")\n",
    "        print (e)"
   ]
  },
  {
   "cell_type": "code",
   "execution_count": null,
   "metadata": {},
   "outputs": [],
   "source": [
    "for file in filepath:\n",
    "    df = pd.read_csv(file)\n",
    "    df.head()\n",
    "    print(df.isna().sum())\n",
    "    "
   ]
  },
  {
   "cell_type": "markdown",
   "metadata": {
    "editable": true
   },
   "source": [
    "## #1: `songs` Table\n",
    "#### Extract Data for Songs Table\n",
    "- Select columns for song ID, title, artist ID, year, and duration\n",
    "- Use `df.values` to select just the values from the dataframe\n",
    "- Index to select the first (only) record in the dataframe\n",
    "- Convert the array to a list and set it to `song_data`"
   ]
  },
  {
   "cell_type": "code",
   "execution_count": null,
   "metadata": {
    "editable": true
   },
   "outputs": [],
   "source": [
    "song_data = df[['song_id', 'title', 'artist_id', 'year', 'duration']]\n",
    "song_data.head()"
   ]
  },
  {
   "cell_type": "code",
   "execution_count": null,
   "metadata": {
    "editable": true
   },
   "outputs": [],
   "source": [
    "# Save the dataframe to disk\n",
    "tmp_df = \"./tmp_dataframe.csv\"\n",
    "song_data.to_csv(tmp_df,index=False , header=False)\n",
    "f = open(tmp_df, 'r')\n",
    "    \n",
    "#start = time.time()\n",
    "cur.copy_from(f, 'song_table', sep=\",\")\n",
    "#end = time.time()"
   ]
  },
  {
   "cell_type": "code",
   "execution_count": null,
   "metadata": {
    "editable": true
   },
   "outputs": [],
   "source": [
    "song_data = df[['song_id', 'title', 'artist_id', 'year', 'duration']].values[0].tolist()\n",
    "song_data"
   ]
  },
  {
   "cell_type": "markdown",
   "metadata": {
    "editable": true
   },
   "source": [
    "#### Insert Record into Song Table\n",
    "Implement the `song_table_insert` query in `sql_queries.py` and run the cell below to insert a record for this song into the `songs` table. Remember to run `create_tables.py` before running the cell below to ensure you've created/resetted the `songs` table in the sparkify database."
   ]
  },
  {
   "cell_type": "code",
   "execution_count": null,
   "metadata": {
    "editable": true
   },
   "outputs": [],
   "source": [
    "cur.execute(song_table_insert, song_data)\n",
    "conn.commit()"
   ]
  },
  {
   "cell_type": "markdown",
   "metadata": {
    "editable": true
   },
   "source": [
    "Run `test.ipynb` to see if you've successfully added a record to this table."
   ]
  },
  {
   "cell_type": "markdown",
   "metadata": {
    "editable": true
   },
   "source": [
    "## #2: `artists` Table\n",
    "#### Extract Data for Artists Table\n",
    "- Select columns for artist ID, name, location, latitude, and longitude\n",
    "- Use `df.values` to select just the values from the dataframe\n",
    "- Index to select the first (only) record in the dataframe\n",
    "- Convert the array to a list and set it to `artist_data`"
   ]
  },
  {
   "cell_type": "code",
   "execution_count": null,
   "metadata": {
    "editable": true
   },
   "outputs": [],
   "source": [
    "artist_data = df[['artist_id', 'artist_name', 'artist_location', 'artist_latitude', 'artist_longitude']].values[0].tolist()\n",
    "artist_data"
   ]
  },
  {
   "cell_type": "markdown",
   "metadata": {
    "editable": true
   },
   "source": [
    "#### Insert Record into Artist Table\n",
    "Implement the `artist_table_insert` query in `sql_queries.py` and run the cell below to insert a record for this song's artist into the `artists` table. Remember to run `create_tables.py` before running the cell below to ensure you've created/resetted the `artists` table in the sparkify database."
   ]
  },
  {
   "cell_type": "code",
   "execution_count": null,
   "metadata": {
    "editable": true
   },
   "outputs": [],
   "source": [
    "cur.execute(artist_table_insert, artist_data)\n",
    "conn.commit()"
   ]
  },
  {
   "cell_type": "markdown",
   "metadata": {
    "editable": true
   },
   "source": [
    "Run `test.ipynb` to see if you've successfully added a record to this table."
   ]
  },
  {
   "cell_type": "markdown",
   "metadata": {
    "editable": true
   },
   "source": [
    "# Process `log_data`\n",
    "In this part, you'll perform ETL on the second dataset, `log_data`, to create the `time` and `users` dimensional tables, as well as the `songplays` fact table.\n",
    "\n",
    "Let's perform ETL on a single log file and load a single record into each table.\n",
    "- Use the `get_files` function provided above to get a list of all log JSON files in `data/log_data`\n",
    "- Select the first log file in this list\n",
    "- Read the log file and view the data"
   ]
  },
  {
   "cell_type": "code",
   "execution_count": null,
   "metadata": {
    "editable": true
   },
   "outputs": [],
   "source": [
    "log_files = get_files(\"data/log_data\")"
   ]
  },
  {
   "cell_type": "code",
   "execution_count": null,
   "metadata": {
    "editable": true
   },
   "outputs": [],
   "source": [
    "filepath_log = log_files\n",
    "filepath_log"
   ]
  },
  {
   "cell_type": "code",
   "execution_count": null,
   "metadata": {
    "editable": true
   },
   "outputs": [],
   "source": [
    "df_log = pd.read_json(filepath_log[0], lines=True)\n",
    "for file1 in range(1,len(filepath_log)):\n",
    "    df_log1 = pd.read_json(filepath_log[file1], lines=True)\n",
    "    df_log = df_log.append(df_log1, ignore_index = True)\n",
    "df = df_log\n",
    "df_log.info()"
   ]
  },
  {
   "cell_type": "markdown",
   "metadata": {
    "editable": true
   },
   "source": [
    "## #3: `time` Table\n",
    "#### Extract Data for Time Table\n",
    "- Filter records by `NextSong` action\n",
    "- Convert the `ts` timestamp column to datetime\n",
    "  - Hint: the current timestamp is in milliseconds\n",
    "- Extract the timestamp, hour, day, week of year, month, year, and weekday from the `ts` column and set `time_data` to a list containing these values in order\n",
    "  - Hint: use pandas' [`dt` attribute](https://pandas.pydata.org/pandas-docs/stable/reference/api/pandas.Series.dt.html) to access easily datetimelike properties.\n",
    "- Specify labels for these columns and set to `column_labels`\n",
    "- Create a dataframe, `time_df,` containing the time data for this file by combining `column_labels` and `time_data` into a dictionary and converting this into a dataframe"
   ]
  },
  {
   "cell_type": "code",
   "execution_count": null,
   "metadata": {
    "editable": true
   },
   "outputs": [],
   "source": [
    "df = df.query('page == \"NextSong\"')\n",
    "df.info()"
   ]
  },
  {
   "cell_type": "code",
   "execution_count": null,
   "metadata": {
    "editable": true
   },
   "outputs": [],
   "source": [
    "t = df['date'] = pd.to_datetime(df['ts'],unit='ms')"
   ]
  },
  {
   "cell_type": "code",
   "execution_count": null,
   "metadata": {
    "editable": true
   },
   "outputs": [],
   "source": [
    "time_data = [t, df['date'].dt.hour, df['date'].dt.day, df['date'].dt.weekofyear, df['date'].dt.month, df['date'].dt.year, df['date'].dt.dayofweek]\n",
    "column_labels = ['start_time', 'hour', 'day', 'week', 'month', 'year', 'weekday'] "
   ]
  },
  {
   "cell_type": "code",
   "execution_count": null,
   "metadata": {
    "editable": true
   },
   "outputs": [],
   "source": [
    "time_df = pd.DataFrame.from_dict(dict(zip(column_labels, time_data)))\n",
    "time_df.head()"
   ]
  },
  {
   "cell_type": "markdown",
   "metadata": {
    "editable": true
   },
   "source": [
    "#### Insert Records into Time Table\n",
    "Implement the `time_table_insert` query in `sql_queries.py` and run the cell below to insert records for the timestamps in this log file into the `time` table. Remember to run `create_tables.py` before running the cell below to ensure you've created/resetted the `time` table in the sparkify database."
   ]
  },
  {
   "cell_type": "code",
   "execution_count": null,
   "metadata": {
    "editable": true
   },
   "outputs": [],
   "source": [
    "for i, row in time_df.iterrows():\n",
    "    cur.execute(time_table_insert, list(row))\n",
    "    conn.commit()"
   ]
  },
  {
   "cell_type": "markdown",
   "metadata": {
    "editable": true
   },
   "source": [
    "Run `test.ipynb` to see if you've successfully added records to this table."
   ]
  },
  {
   "cell_type": "markdown",
   "metadata": {
    "editable": true
   },
   "source": [
    "## #4: `users` Table\n",
    "#### Extract Data for Users Table\n",
    "- Select columns for user ID, first name, last name, gender and level and set to `user_df`"
   ]
  },
  {
   "cell_type": "code",
   "execution_count": null,
   "metadata": {
    "editable": true
   },
   "outputs": [],
   "source": [
    "user_df = df[['userId', 'firstName', 'lastName', 'gender', 'level']]\n",
    "user_df[\"userId\"] = pd.to_numeric(user_df[\"userId\"])\n",
    "user_df = user_df.drop_duplicates(subset=['userId'])\n",
    "user_df.head(5)"
   ]
  },
  {
   "cell_type": "markdown",
   "metadata": {
    "editable": true
   },
   "source": [
    "#### Insert Records into Users Table\n",
    "Implement the `user_table_insert` query in `sql_queries.py` and run the cell below to insert records for the users in this log file into the `users` table. Remember to run `create_tables.py` before running the cell below to ensure you've created/resetted the `users` table in the sparkify database."
   ]
  },
  {
   "cell_type": "code",
   "execution_count": null,
   "metadata": {
    "editable": true
   },
   "outputs": [],
   "source": [
    "for i, row in user_df.iterrows():\n",
    "    cur.execute(user_table_insert, row)\n",
    "    conn.commit()"
   ]
  },
  {
   "cell_type": "markdown",
   "metadata": {
    "editable": true
   },
   "source": [
    "Run `test.ipynb` to see if you've successfully added records to this table."
   ]
  },
  {
   "cell_type": "markdown",
   "metadata": {
    "editable": true
   },
   "source": [
    "## #5: `songplays` Table\n",
    "#### Extract Data and Songplays Table\n",
    "This one is a little more complicated since information from the songs table, artists table, and original log file are all needed for the `songplays` table. Since the log file does not specify an ID for either the song or the artist, you'll need to get the song ID and artist ID by querying the songs and artists tables to find matches based on song title, artist name, and song duration time.\n",
    "- Implement the `song_select` query in `sql_queries.py` to find the song ID and artist ID based on the title, artist name, and duration of a song.\n",
    "- Select the timestamp, user ID, level, song ID, artist ID, session ID, location, and user agent and set to `songplay_data`\n",
    "\n",
    "#### Insert Records into Songplays Table\n",
    "- Implement the `songplay_table_insert` query and run the cell below to insert records for the songplay actions in this log file into the `songplays` table. Remember to run `create_tables.py` before running the cell below to ensure you've created/resetted the `songplays` table in the sparkify database."
   ]
  },
  {
   "cell_type": "code",
   "execution_count": null,
   "metadata": {
    "editable": true
   },
   "outputs": [],
   "source": [
    "for index, row in df.iterrows():\n",
    "\n",
    "    # get songid and artistid from song and artist tables\n",
    "    cur.execute(song_select, (row.song, row.artist, row.length))\n",
    "    results = cur.fetchone()\n",
    "    \n",
    "    if results:\n",
    "        songid, artistid = results\n",
    "    else:\n",
    "        songid, artistid = None, None\n",
    "\n",
    "    # insert songplay record\n",
    "    songplay_data = (row.ts, row.userId, row.level, songid, artistid, row.sessionId, row.location, row.userAgent)\n",
    "    cur.execute(songplay_table_insert, songplay_data)\n",
    "    conn.commit()"
   ]
  },
  {
   "cell_type": "markdown",
   "metadata": {
    "editable": true
   },
   "source": [
    "Run `test.ipynb` to see if you've successfully added records to this table."
   ]
  },
  {
   "cell_type": "markdown",
   "metadata": {
    "editable": true
   },
   "source": [
    "# Close Connection to Sparkify Database"
   ]
  },
  {
   "cell_type": "code",
   "execution_count": null,
   "metadata": {
    "editable": true
   },
   "outputs": [],
   "source": [
    "conn.close()"
   ]
  },
  {
   "cell_type": "markdown",
   "metadata": {
    "editable": true
   },
   "source": [
    "# Implement `etl.py`\n",
    "Use what you've completed in this notebook to implement `etl.py`."
   ]
  },
  {
   "cell_type": "code",
   "execution_count": null,
   "metadata": {
    "editable": true
   },
   "outputs": [],
   "source": []
  }
 ],
 "metadata": {
  "kernelspec": {
   "display_name": "Python 3",
   "language": "python",
   "name": "python3"
  },
  "language_info": {
   "codemirror_mode": {
    "name": "ipython",
    "version": 3
   },
   "file_extension": ".py",
   "mimetype": "text/x-python",
   "name": "python",
   "nbconvert_exporter": "python",
   "pygments_lexer": "ipython3",
   "version": "3.8.3-final"
  }
 },
 "nbformat": 4,
 "nbformat_minor": 4
}