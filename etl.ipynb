{
 "cells": [
  {
   "cell_type": "markdown",
   "metadata": {
    "editable": true
   },
   "source": [
    "# ETL Processes\n",
    "Use this notebook to develop the ETL process for each of your tables before completing the `etl.py` file to load the whole datasets."
   ]
  },
  {
   "cell_type": "code",
   "execution_count": 1,
   "metadata": {
    "editable": true
   },
   "outputs": [],
   "source": [
    "import os\n",
    "import glob\n",
    "import psycopg2\n",
    "import re\n",
    "\n",
    "import pandas as pd\n",
    "from sql_queries import *"
   ]
  },
  {
   "cell_type": "code",
   "execution_count": null,
   "metadata": {},
   "outputs": [],
   "source": []
  },
  {
   "source": [],
   "cell_type": "code",
   "metadata": {
    "editable": true
   },
   "execution_count": null,
   "outputs": []
  },
  {
   "source": [
    "conn = psycopg2.connect(\"host=127.0.0.1 dbname=nubank user=postgres password=nubank\")\n",
    "cur = conn.cursor()"
   ],
   "cell_type": "code",
   "metadata": {
    "editable": true
   },
   "execution_count": 2,
   "outputs": []
  },
  {
   "cell_type": "code",
   "execution_count": 3,
   "metadata": {},
   "outputs": [],
   "source": [
    "for query in drop_table_queries:\n",
    "        cur.execute(query)\n",
    "        conn.commit()\n",
    "\n",
    "for query in create_table_queries:\n",
    "        cur.execute(query)\n",
    "        conn.commit()"
   ]
  },
  {
   "cell_type": "code",
   "execution_count": 4,
   "metadata": {
    "editable": true
   },
   "outputs": [
    {
     "output_type": "stream",
     "name": "stdout",
     "text": [
      "[('accounts_table',), ('country_table',), ('city_table',), ('costumers_table',), ('d_month_table',), ('d_time_table',), ('d_week_table',), ('d_year_table',), ('pix_movements_table',), ('state_table',), ('transfer_ins_table',), ('transfer_outs_table',)]\n"
     ]
    }
   ],
   "source": [
    "#VERIFY THE DB TABLES\n",
    "cur.execute(\"select relname from pg_class where relkind='r' and relname !~ '^(pg_|sql_)';\")\n",
    "print(cur.fetchall())"
   ]
  },
  {
   "cell_type": "code",
   "execution_count": 5,
   "metadata": {
    "editable": true
   },
   "outputs": [],
   "source": [
    "def get_files(filepath):\n",
    "    all_files = []\n",
    "    for root, dirs, files in os.walk(filepath):\n",
    "        files = glob.glob(os.path.join(root,'*.csv'))\n",
    "        for f in files :\n",
    "            all_files.append(os.path.abspath(f))\n",
    "    \n",
    "    return all_files"
   ]
  },
  {
   "cell_type": "markdown",
   "metadata": {
    "editable": true
   },
   "source": [
    "# Process table data\n",
    "In this first part, you'll perform ETL on the tables"
   ]
  },
  {
   "cell_type": "code",
   "execution_count": 6,
   "metadata": {
    "editable": true
   },
   "outputs": [],
   "source": [
    "table_files = get_files(\"tables/tables\")"
   ]
  },
  {
   "cell_type": "code",
   "execution_count": 7,
   "metadata": {
    "editable": true
   },
   "outputs": [],
   "source": [
    "filepath = table_files[1]"
   ]
  },
  {
   "cell_type": "code",
   "execution_count": 8,
   "metadata": {},
   "outputs": [],
   "source": [
    "df = pd.read_csv(filepath)\n",
    "df.head()\n",
    "df_1 = df[['city_id','city','state_id']]"
   ]
  },
  {
   "cell_type": "code",
   "execution_count": 9,
   "metadata": {},
   "outputs": [
    {
     "output_type": "execute_result",
     "data": {
      "text/plain": [
       "               city_id                  city             state_id\n",
       "0   670134511382200832   São José do Goiabal  2755422274446512640\n",
       "1  1734898293086970880           Pederneiras  2066774635771587840\n",
       "2  1215291016113604608             Unistalda  1255006025180785920\n",
       "3  1751285020827958784  Córrego do Bom Jesus  2755422274446512640\n",
       "4  2840661058008040960      Nova Monte Verde  1169007872647055360"
      ],
      "text/html": "<div>\n<style scoped>\n    .dataframe tbody tr th:only-of-type {\n        vertical-align: middle;\n    }\n\n    .dataframe tbody tr th {\n        vertical-align: top;\n    }\n\n    .dataframe thead th {\n        text-align: right;\n    }\n</style>\n<table border=\"1\" class=\"dataframe\">\n  <thead>\n    <tr style=\"text-align: right;\">\n      <th></th>\n      <th>city_id</th>\n      <th>city</th>\n      <th>state_id</th>\n    </tr>\n  </thead>\n  <tbody>\n    <tr>\n      <th>0</th>\n      <td>670134511382200832</td>\n      <td>São José do Goiabal</td>\n      <td>2755422274446512640</td>\n    </tr>\n    <tr>\n      <th>1</th>\n      <td>1734898293086970880</td>\n      <td>Pederneiras</td>\n      <td>2066774635771587840</td>\n    </tr>\n    <tr>\n      <th>2</th>\n      <td>1215291016113604608</td>\n      <td>Unistalda</td>\n      <td>1255006025180785920</td>\n    </tr>\n    <tr>\n      <th>3</th>\n      <td>1751285020827958784</td>\n      <td>Córrego do Bom Jesus</td>\n      <td>2755422274446512640</td>\n    </tr>\n    <tr>\n      <th>4</th>\n      <td>2840661058008040960</td>\n      <td>Nova Monte Verde</td>\n      <td>1169007872647055360</td>\n    </tr>\n  </tbody>\n</table>\n</div>"
     },
     "metadata": {},
     "execution_count": 9
    }
   ],
   "source": [
    "df_1.head()"
   ]
  },
  {
   "cell_type": "code",
   "execution_count": 10,
   "metadata": {},
   "outputs": [],
   "source": [
    "for i, row in df_1.iterrows():\n",
    "        cur.execute(city_table_insert, list(row))\n",
    "conn.commit()\n",
    "conn.close()"
   ]
  },
  {
   "cell_type": "code",
   "execution_count": 8,
   "metadata": {},
   "outputs": [
    {
     "output_type": "stream",
     "name": "stdout",
     "text": [
      "c:\\Users\\Filipe\\Documents\\Nubank-Analytics-Engineer-Case\\tables\\tables\\accounts_table.csv\naccounts_table\nc:\\Users\\Filipe\\Documents\\Nubank-Analytics-Engineer-Case\\tables\\tables\\city_table.csv\ncity_table\nc:\\Users\\Filipe\\Documents\\Nubank-Analytics-Engineer-Case\\tables\\tables\\costumers_table.csv\ncostumers_table\nc:\\Users\\Filipe\\Documents\\Nubank-Analytics-Engineer-Case\\tables\\tables\\country_table.csv\ncountry_table\nc:\\Users\\Filipe\\Documents\\Nubank-Analytics-Engineer-Case\\tables\\tables\\d_month_table.csv\nd_month_table\nc:\\Users\\Filipe\\Documents\\Nubank-Analytics-Engineer-Case\\tables\\tables\\d_time_table.csv\nd_time_table\nc:\\Users\\Filipe\\Documents\\Nubank-Analytics-Engineer-Case\\tables\\tables\\d_weekday_table.csv\nd_weekday_table\nc:\\Users\\Filipe\\Documents\\Nubank-Analytics-Engineer-Case\\tables\\tables\\d_week_table.csv\nd_week_table\nc:\\Users\\Filipe\\Documents\\Nubank-Analytics-Engineer-Case\\tables\\tables\\d_year_table.csv\nd_year_table\nc:\\Users\\Filipe\\Documents\\Nubank-Analytics-Engineer-Case\\tables\\tables\\pix_movements_table.csv\npix_movements_table\nc:\\Users\\Filipe\\Documents\\Nubank-Analytics-Engineer-Case\\tables\\tables\\state_table.csv\nstate_table\nc:\\Users\\Filipe\\Documents\\Nubank-Analytics-Engineer-Case\\tables\\tables\\transfer_ins_table.csv\ntransfer_ins_table\nc:\\Users\\Filipe\\Documents\\Nubank-Analytics-Engineer-Case\\tables\\tables\\transfer_outs_table.csv\ntransfer_outs_table\n"
     ]
    }
   ],
   "source": [
    "for file in filepath:\n",
    "    print(file)\n",
    "    f = open(file, 'r')\n",
    "    print(os.path.basename(file).replace('.csv',''))\n"
   ]
  },
  {
   "cell_type": "code",
   "execution_count": 9,
   "metadata": {},
   "outputs": [
    {
     "output_type": "stream",
     "name": "stdout",
     "text": [
      "c:\\Users\\Filipe\\Documents\\Nubank-Analytics-Engineer-Case\\tables\\tables\\accounts_table.csv\nc:\\Users\\Filipe\\Documents\\Nubank-Analytics-Engineer-Case\\tables\\tables\\city_table.csv\nError: Inserting Rows\ninvalid input syntax for type integer: \"SÃ£o JosÃ© do Goiabal\"\nCONTEXT:  COPY city_table, line 2, column city_id: \"SÃ£o JosÃ© do Goiabal\"\n\nc:\\Users\\Filipe\\Documents\\Nubank-Analytics-Engineer-Case\\tables\\tables\\costumers_table.csv\nError: Inserting Rows\ncurrent transaction is aborted, commands ignored until end of transaction block\n\nc:\\Users\\Filipe\\Documents\\Nubank-Analytics-Engineer-Case\\tables\\tables\\country_table.csv\nError: Inserting Rows\ncurrent transaction is aborted, commands ignored until end of transaction block\n\nc:\\Users\\Filipe\\Documents\\Nubank-Analytics-Engineer-Case\\tables\\tables\\d_month_table.csv\nError: Inserting Rows\ncurrent transaction is aborted, commands ignored until end of transaction block\n\nc:\\Users\\Filipe\\Documents\\Nubank-Analytics-Engineer-Case\\tables\\tables\\d_time_table.csv\nError: Inserting Rows\ncurrent transaction is aborted, commands ignored until end of transaction block\n\nc:\\Users\\Filipe\\Documents\\Nubank-Analytics-Engineer-Case\\tables\\tables\\d_weekday_table.csv\nError: Inserting Rows\ncurrent transaction is aborted, commands ignored until end of transaction block\n\nc:\\Users\\Filipe\\Documents\\Nubank-Analytics-Engineer-Case\\tables\\tables\\d_week_table.csv\nError: Inserting Rows\ncurrent transaction is aborted, commands ignored until end of transaction block\n\nc:\\Users\\Filipe\\Documents\\Nubank-Analytics-Engineer-Case\\tables\\tables\\d_year_table.csv\nError: Inserting Rows\ncurrent transaction is aborted, commands ignored until end of transaction block\n\nc:\\Users\\Filipe\\Documents\\Nubank-Analytics-Engineer-Case\\tables\\tables\\pix_movements_table.csv\nError: Inserting Rows\ncurrent transaction is aborted, commands ignored until end of transaction block\n\nc:\\Users\\Filipe\\Documents\\Nubank-Analytics-Engineer-Case\\tables\\tables\\state_table.csv\nError: Inserting Rows\ncurrent transaction is aborted, commands ignored until end of transaction block\n\nc:\\Users\\Filipe\\Documents\\Nubank-Analytics-Engineer-Case\\tables\\tables\\transfer_ins_table.csv\nError: Inserting Rows\ncurrent transaction is aborted, commands ignored until end of transaction block\n\nc:\\Users\\Filipe\\Documents\\Nubank-Analytics-Engineer-Case\\tables\\tables\\transfer_outs_table.csv\nError: Inserting Rows\ncurrent transaction is aborted, commands ignored until end of transaction block\n\n"
     ]
    }
   ],
   "source": [
    "\n",
    "\n",
    "\n",
    "for file in filepath:\n",
    "    print(file)\n",
    "    f = open(file, 'r')\n",
    "    x = os.path.basename(file).replace('.csv','')\n",
    "\n",
    "    copy_sql = \"\"\"\n",
    "           COPY %s FROM stdin WITH CSV HEADER\n",
    "           DELIMITER as ','\n",
    "           \"\"\"\n",
    "    tmp_df = \"./tables/tables/tmp.csv\"\n",
    "    df.to_csv(tmp_df,index=False , header=False)\n",
    "\n",
    "    try:\n",
    "        \n",
    "        cur.copy_from(f, x, sep=\",\", columns=)\n",
    "        conn.commit()\n",
    "    except psycopg2.Error as e: \n",
    "        print(\"Error: Inserting Rows\")\n",
    "        print (e)"
   ]
  },
  {
   "cell_type": "code",
   "execution_count": null,
   "metadata": {},
   "outputs": [],
   "source": [
    "for file in filepath:\n",
    "    df = pd.read_csv(file)\n",
    "    df.head()\n",
    "    print(df.isna().sum())\n",
    "    "
   ]
  },
  {
   "cell_type": "markdown",
   "metadata": {
    "editable": true
   },
   "source": [
    "## #1: `songs` Table\n",
    "#### Extract Data for Songs Table\n",
    "- Select columns for song ID, title, artist ID, year, and duration\n",
    "- Use `df.values` to select just the values from the dataframe\n",
    "- Index to select the first (only) record in the dataframe\n",
    "- Convert the array to a list and set it to `song_data`"
   ]
  },
  {
   "cell_type": "code",
   "execution_count": null,
   "metadata": {
    "editable": true
   },
   "outputs": [],
   "source": [
    "song_data = df[['song_id', 'title', 'artist_id', 'year', 'duration']]\n",
    "song_data.head()"
   ]
  },
  {
   "cell_type": "code",
   "execution_count": null,
   "metadata": {
    "editable": true
   },
   "outputs": [],
   "source": [
    "# Save the dataframe to disk\n",
    "tmp_df = \"./tmp_dataframe.csv\"\n",
    "song_data.to_csv(tmp_df,index=False , header=False)\n",
    "f = open(tmp_df, 'r')\n",
    "    \n",
    "#start = time.time()\n",
    "cur.copy_from(f, 'song_table', sep=\",\")\n",
    "#end = time.time()"
   ]
  },
  {
   "cell_type": "code",
   "execution_count": null,
   "metadata": {
    "editable": true
   },
   "outputs": [],
   "source": [
    "song_data = df[['song_id', 'title', 'artist_id', 'year', 'duration']].values[0].tolist()\n",
    "song_data"
   ]
  },
  {
   "cell_type": "markdown",
   "metadata": {
    "editable": true
   },
   "source": [
    "#### Insert Record into Song Table\n",
    "Implement the `song_table_insert` query in `sql_queries.py` and run the cell below to insert a record for this song into the `songs` table. Remember to run `create_tables.py` before running the cell below to ensure you've created/resetted the `songs` table in the sparkify database."
   ]
  },
  {
   "cell_type": "code",
   "execution_count": null,
   "metadata": {
    "editable": true
   },
   "outputs": [],
   "source": [
    "cur.execute(song_table_insert, song_data)\n",
    "conn.commit()"
   ]
  },
  {
   "cell_type": "markdown",
   "metadata": {
    "editable": true
   },
   "source": [
    "Run `test.ipynb` to see if you've successfully added a record to this table."
   ]
  },
  {
   "cell_type": "markdown",
   "metadata": {
    "editable": true
   },
   "source": [
    "## #2: `artists` Table\n",
    "#### Extract Data for Artists Table\n",
    "- Select columns for artist ID, name, location, latitude, and longitude\n",
    "- Use `df.values` to select just the values from the dataframe\n",
    "- Index to select the first (only) record in the dataframe\n",
    "- Convert the array to a list and set it to `artist_data`"
   ]
  },
  {
   "cell_type": "code",
   "execution_count": null,
   "metadata": {
    "editable": true
   },
   "outputs": [],
   "source": [
    "artist_data = df[['artist_id', 'artist_name', 'artist_location', 'artist_latitude', 'artist_longitude']].values[0].tolist()\n",
    "artist_data"
   ]
  },
  {
   "cell_type": "markdown",
   "metadata": {
    "editable": true
   },
   "source": [
    "#### Insert Record into Artist Table\n",
    "Implement the `artist_table_insert` query in `sql_queries.py` and run the cell below to insert a record for this song's artist into the `artists` table. Remember to run `create_tables.py` before running the cell below to ensure you've created/resetted the `artists` table in the sparkify database."
   ]
  },
  {
   "cell_type": "code",
   "execution_count": null,
   "metadata": {
    "editable": true
   },
   "outputs": [],
   "source": [
    "cur.execute(artist_table_insert, artist_data)\n",
    "conn.commit()"
   ]
  },
  {
   "cell_type": "markdown",
   "metadata": {
    "editable": true
   },
   "source": [
    "Run `test.ipynb` to see if you've successfully added a record to this table."
   ]
  },
  {
   "cell_type": "markdown",
   "metadata": {
    "editable": true
   },
   "source": [
    "# Process `log_data`\n",
    "In this part, you'll perform ETL on the second dataset, `log_data`, to create the `time` and `users` dimensional tables, as well as the `songplays` fact table.\n",
    "\n",
    "Let's perform ETL on a single log file and load a single record into each table.\n",
    "- Use the `get_files` function provided above to get a list of all log JSON files in `data/log_data`\n",
    "- Select the first log file in this list\n",
    "- Read the log file and view the data"
   ]
  },
  {
   "cell_type": "code",
   "execution_count": null,
   "metadata": {
    "editable": true
   },
   "outputs": [],
   "source": [
    "log_files = get_files(\"data/log_data\")"
   ]
  },
  {
   "cell_type": "code",
   "execution_count": null,
   "metadata": {
    "editable": true
   },
   "outputs": [],
   "source": [
    "filepath_log = log_files\n",
    "filepath_log"
   ]
  },
  {
   "cell_type": "code",
   "execution_count": null,
   "metadata": {
    "editable": true
   },
   "outputs": [],
   "source": [
    "df_log = pd.read_json(filepath_log[0], lines=True)\n",
    "for file1 in range(1,len(filepath_log)):\n",
    "    df_log1 = pd.read_json(filepath_log[file1], lines=True)\n",
    "    df_log = df_log.append(df_log1, ignore_index = True)\n",
    "df = df_log\n",
    "df_log.info()"
   ]
  },
  {
   "cell_type": "markdown",
   "metadata": {
    "editable": true
   },
   "source": [
    "## #3: `time` Table\n",
    "#### Extract Data for Time Table\n",
    "- Filter records by `NextSong` action\n",
    "- Convert the `ts` timestamp column to datetime\n",
    "  - Hint: the current timestamp is in milliseconds\n",
    "- Extract the timestamp, hour, day, week of year, month, year, and weekday from the `ts` column and set `time_data` to a list containing these values in order\n",
    "  - Hint: use pandas' [`dt` attribute](https://pandas.pydata.org/pandas-docs/stable/reference/api/pandas.Series.dt.html) to access easily datetimelike properties.\n",
    "- Specify labels for these columns and set to `column_labels`\n",
    "- Create a dataframe, `time_df,` containing the time data for this file by combining `column_labels` and `time_data` into a dictionary and converting this into a dataframe"
   ]
  },
  {
   "cell_type": "code",
   "execution_count": null,
   "metadata": {
    "editable": true
   },
   "outputs": [],
   "source": [
    "df = df.query('page == \"NextSong\"')\n",
    "df.info()"
   ]
  },
  {
   "cell_type": "code",
   "execution_count": null,
   "metadata": {
    "editable": true
   },
   "outputs": [],
   "source": [
    "t = df['date'] = pd.to_datetime(df['ts'],unit='ms')"
   ]
  },
  {
   "cell_type": "code",
   "execution_count": null,
   "metadata": {
    "editable": true
   },
   "outputs": [],
   "source": [
    "time_data = [t, df['date'].dt.hour, df['date'].dt.day, df['date'].dt.weekofyear, df['date'].dt.month, df['date'].dt.year, df['date'].dt.dayofweek]\n",
    "column_labels = ['start_time', 'hour', 'day', 'week', 'month', 'year', 'weekday'] "
   ]
  },
  {
   "cell_type": "code",
   "execution_count": null,
   "metadata": {
    "editable": true
   },
   "outputs": [],
   "source": [
    "time_df = pd.DataFrame.from_dict(dict(zip(column_labels, time_data)))\n",
    "time_df.head()"
   ]
  },
  {
   "cell_type": "markdown",
   "metadata": {
    "editable": true
   },
   "source": [
    "#### Insert Records into Time Table\n",
    "Implement the `time_table_insert` query in `sql_queries.py` and run the cell below to insert records for the timestamps in this log file into the `time` table. Remember to run `create_tables.py` before running the cell below to ensure you've created/resetted the `time` table in the sparkify database."
   ]
  },
  {
   "cell_type": "code",
   "execution_count": null,
   "metadata": {
    "editable": true
   },
   "outputs": [],
   "source": [
    "for i, row in time_df.iterrows():\n",
    "    cur.execute(time_table_insert, list(row))\n",
    "    conn.commit()"
   ]
  },
  {
   "cell_type": "markdown",
   "metadata": {
    "editable": true
   },
   "source": [
    "Run `test.ipynb` to see if you've successfully added records to this table."
   ]
  },
  {
   "cell_type": "markdown",
   "metadata": {
    "editable": true
   },
   "source": [
    "## #4: `users` Table\n",
    "#### Extract Data for Users Table\n",
    "- Select columns for user ID, first name, last name, gender and level and set to `user_df`"
   ]
  },
  {
   "cell_type": "code",
   "execution_count": null,
   "metadata": {
    "editable": true
   },
   "outputs": [],
   "source": [
    "user_df = df[['userId', 'firstName', 'lastName', 'gender', 'level']]\n",
    "user_df[\"userId\"] = pd.to_numeric(user_df[\"userId\"])\n",
    "user_df = user_df.drop_duplicates(subset=['userId'])\n",
    "user_df.head(5)"
   ]
  },
  {
   "cell_type": "markdown",
   "metadata": {
    "editable": true
   },
   "source": [
    "#### Insert Records into Users Table\n",
    "Implement the `user_table_insert` query in `sql_queries.py` and run the cell below to insert records for the users in this log file into the `users` table. Remember to run `create_tables.py` before running the cell below to ensure you've created/resetted the `users` table in the sparkify database."
   ]
  },
  {
   "cell_type": "code",
   "execution_count": null,
   "metadata": {
    "editable": true
   },
   "outputs": [],
   "source": [
    "for i, row in user_df.iterrows():\n",
    "    cur.execute(user_table_insert, row)\n",
    "    conn.commit()"
   ]
  },
  {
   "cell_type": "markdown",
   "metadata": {
    "editable": true
   },
   "source": [
    "Run `test.ipynb` to see if you've successfully added records to this table."
   ]
  },
  {
   "cell_type": "markdown",
   "metadata": {
    "editable": true
   },
   "source": [
    "## #5: `songplays` Table\n",
    "#### Extract Data and Songplays Table\n",
    "This one is a little more complicated since information from the songs table, artists table, and original log file are all needed for the `songplays` table. Since the log file does not specify an ID for either the song or the artist, you'll need to get the song ID and artist ID by querying the songs and artists tables to find matches based on song title, artist name, and song duration time.\n",
    "- Implement the `song_select` query in `sql_queries.py` to find the song ID and artist ID based on the title, artist name, and duration of a song.\n",
    "- Select the timestamp, user ID, level, song ID, artist ID, session ID, location, and user agent and set to `songplay_data`\n",
    "\n",
    "#### Insert Records into Songplays Table\n",
    "- Implement the `songplay_table_insert` query and run the cell below to insert records for the songplay actions in this log file into the `songplays` table. Remember to run `create_tables.py` before running the cell below to ensure you've created/resetted the `songplays` table in the sparkify database."
   ]
  },
  {
   "cell_type": "code",
   "execution_count": null,
   "metadata": {
    "editable": true
   },
   "outputs": [],
   "source": [
    "for index, row in df.iterrows():\n",
    "\n",
    "    # get songid and artistid from song and artist tables\n",
    "    cur.execute(song_select, (row.song, row.artist, row.length))\n",
    "    results = cur.fetchone()\n",
    "    \n",
    "    if results:\n",
    "        songid, artistid = results\n",
    "    else:\n",
    "        songid, artistid = None, None\n",
    "\n",
    "    # insert songplay record\n",
    "    songplay_data = (row.ts, row.userId, row.level, songid, artistid, row.sessionId, row.location, row.userAgent)\n",
    "    cur.execute(songplay_table_insert, songplay_data)\n",
    "    conn.commit()"
   ]
  },
  {
   "cell_type": "markdown",
   "metadata": {
    "editable": true
   },
   "source": [
    "Run `test.ipynb` to see if you've successfully added records to this table."
   ]
  },
  {
   "cell_type": "markdown",
   "metadata": {
    "editable": true
   },
   "source": [
    "# Close Connection to Sparkify Database"
   ]
  },
  {
   "cell_type": "code",
   "execution_count": null,
   "metadata": {
    "editable": true
   },
   "outputs": [],
   "source": [
    "conn.close()"
   ]
  },
  {
   "cell_type": "markdown",
   "metadata": {
    "editable": true
   },
   "source": [
    "# Implement `etl.py`\n",
    "Use what you've completed in this notebook to implement `etl.py`."
   ]
  },
  {
   "cell_type": "code",
   "execution_count": null,
   "metadata": {
    "editable": true
   },
   "outputs": [],
   "source": []
  }
 ],
 "metadata": {
  "kernelspec": {
   "display_name": "Python 3",
   "language": "python",
   "name": "python3"
  },
  "language_info": {
   "codemirror_mode": {
    "name": "ipython",
    "version": 3
   },
   "file_extension": ".py",
   "mimetype": "text/x-python",
   "name": "python",
   "nbconvert_exporter": "python",
   "pygments_lexer": "ipython3",
   "version": "3.8.3-final"
  }
 },
 "nbformat": 4,
 "nbformat_minor": 4
}