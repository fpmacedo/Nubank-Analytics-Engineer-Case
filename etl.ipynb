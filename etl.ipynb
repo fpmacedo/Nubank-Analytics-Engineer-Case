{
 "cells": [
  {
   "cell_type": "markdown",
   "metadata": {
    "editable": true
   },
   "source": [
    "# ETL Processes\n",
    "\n",
    "This notebook is used to create the tables in the Nubank Postgres database and execute the ETL process puting the data in csv files inside the Postgres DB.\n",
    "\n",
    "It was created by me with the purpose to execute a few tests of the created querys used in the ```case_answers``` jupyter notebook that is in the same folder.\n",
    "\n",
    "If you want to use this to run the querys you need to follow the next steps:\n",
    "\n",
    "1. Install docker if you don`t have it. You can find instructions [here](https://docs.docker.com/desktop/).\n",
    "\n",
    "2. Run the command: ```docker run -p 5432:5432 --name nubank -e POSTGRES_PASSWORD=nubank -d postgres``` to create a docker container named Nubank with a postgres image.\n",
    "\n",
    "3. Run the cells bellow in this notebook to create the tables in the nubank database"
   ]
  },
  {
   "cell_type": "code",
   "execution_count": 4,
   "metadata": {
    "editable": true
   },
   "outputs": [],
   "source": [
    "import os\n",
    "import glob\n",
    "import psycopg2\n",
    "\n",
    "import pandas as pd\n",
    "from sql_queries import *"
   ]
  },
  {
   "source": [
    "conn = psycopg2.connect(\"host=127.0.0.1 user=postgres password=nubank\")\n",
    "conn.set_session(autocommit=True)\n",
    "cur = conn.cursor()"
   ],
   "cell_type": "code",
   "metadata": {
    "editable": true
   },
   "execution_count": 5,
   "outputs": []
  },
  {
   "cell_type": "code",
   "execution_count": 6,
   "metadata": {},
   "outputs": [],
   "source": [
    "cur.execute(\"DROP DATABASE IF EXISTS nubank\")\n",
    "cur.execute(\"CREATE DATABASE nubank WITH ENCODING 'utf8' TEMPLATE template0\")\n",
    "#close connection to default database\n",
    "conn.close()    \n",
    "\n",
    "conn = psycopg2.connect(\"host=127.0.0.1 dbname=nubank user=postgres password=nubank\")\n",
    "cur = conn.cursor()"
   ]
  },
  {
   "source": [
    "#conn = psycopg2.connect(\"host=127.0.0.1 dbname=nubank user=postgres password=nubank\")\n",
    "#cur = conn.cursor()"
   ],
   "cell_type": "code",
   "metadata": {},
   "execution_count": 7,
   "outputs": []
  },
  {
   "cell_type": "code",
   "execution_count": 8,
   "metadata": {},
   "outputs": [],
   "source": [
    "for query in drop_table_queries:\n",
    "        cur.execute(query)\n",
    "        conn.commit()\n",
    "\n",
    "for query in create_table_queries:\n",
    "        cur.execute(query)\n",
    "        conn.commit()"
   ]
  },
  {
   "cell_type": "code",
   "execution_count": 9,
   "metadata": {
    "editable": true
   },
   "outputs": [
    {
     "output_type": "stream",
     "name": "stdout",
     "text": [
      "[('accounts_table',), ('city_table',), ('customers_table',), ('country_table',), ('d_month_table',), ('d_time_table',), ('d_week_table',), ('d_weekday_table',), ('d_year_table',), ('pix_movements_table',), ('state_table',), ('transfer_ins_table',), ('transfer_outs_table',), ('fact_movements_table',), ('dim_time_table',), ('dim_customers_table',)]\n"
     ]
    }
   ],
   "source": [
    "#VERIFY THE DB TABLES\n",
    "cur.execute(\"select relname from pg_class where relkind='r' and relname !~ '^(pg_|sql_)';\")\n",
    "print(cur.fetchall())"
   ]
  },
  {
   "cell_type": "code",
   "execution_count": 10,
   "metadata": {},
   "outputs": [],
   "source": [
    "def insert_function(data, query):\n",
    "        for i, row in data.iterrows():\n",
    "                cur.execute(query, list(row))\n",
    "        conn.commit()\n"
   ]
  },
  {
   "cell_type": "markdown",
   "metadata": {
    "editable": true
   },
   "source": [
    "# Process table data\n",
    "In this first part, you'll perform ETL on the tables"
   ]
  },
  {
   "source": [
    "### Insert data in accounts_table"
   ],
   "cell_type": "markdown",
   "metadata": {}
  },
  {
   "cell_type": "code",
   "execution_count": 11,
   "metadata": {},
   "outputs": [],
   "source": [
    "accounts_df = pd.read_csv(\"./tables/tables/accounts_table.csv\")\n",
    "insert_function(accounts_df, accounts_table_insert)"
   ]
  },
  {
   "source": [
    "### Insert data in city_table"
   ],
   "cell_type": "markdown",
   "metadata": {}
  },
  {
   "source": [
    "city_df = pd.read_csv(\"./tables/tables/city_table.csv\")\n",
    "city_df = city_df[['city_id','city','state_id']]\n",
    "insert_function(city_df, city_table_insert)"
   ],
   "cell_type": "code",
   "metadata": {},
   "execution_count": 12,
   "outputs": []
  },
  {
   "source": [
    "### Insert data in customers_table"
   ],
   "cell_type": "markdown",
   "metadata": {}
  },
  {
   "source": [
    "customers_df = pd.read_csv(\"./tables/tables/customers_table.csv\")\n",
    "customers_df.head()\n",
    "insert_function(customers_df, customers_table_insert)"
   ],
   "cell_type": "code",
   "metadata": {},
   "execution_count": 13,
   "outputs": []
  },
  {
   "source": [
    "### Insert data in country_table"
   ],
   "cell_type": "markdown",
   "metadata": {}
  },
  {
   "cell_type": "code",
   "execution_count": 14,
   "metadata": {},
   "outputs": [],
   "source": [
    "country_df = pd.read_csv(\"./tables/tables/country_table.csv\")\n",
    "country_df = country_df[[\"country_id\", \"country\"]]\n",
    "insert_function(country_df, country_table_insert)"
   ]
  },
  {
   "source": [
    "### Insert data in d_month_table"
   ],
   "cell_type": "markdown",
   "metadata": {}
  },
  {
   "cell_type": "code",
   "execution_count": 15,
   "metadata": {},
   "outputs": [],
   "source": [
    "d_month_table_df = pd.read_csv(\"./tables/tables/d_month_table.csv\")\n",
    "insert_function(d_month_table_df, d_month_table_insert)"
   ]
  },
  {
   "source": [
    "### Insert data in d_time_table"
   ],
   "cell_type": "markdown",
   "metadata": {}
  },
  {
   "cell_type": "code",
   "execution_count": 16,
   "metadata": {},
   "outputs": [],
   "source": [
    "d_time_table_df = pd.read_csv(\"./tables/tables/d_time_table.csv\")\n",
    "tmp_df = \"./tables/tables/tmp.csv\"\n",
    "d_time_table_df.to_csv(tmp_df,index=False , header=False)\n",
    "f = open(tmp_df, 'r')\n",
    "cur.copy_from(f, \"d_time_table\", sep=\",\")\n",
    "conn.commit()"
   ]
  },
  {
   "source": [
    "### Insert data in d_week_table"
   ],
   "cell_type": "markdown",
   "metadata": {}
  },
  {
   "cell_type": "code",
   "execution_count": 17,
   "metadata": {},
   "outputs": [],
   "source": [
    "d_week_table_df = pd.read_csv(\"./tables/tables/d_week_table.csv\")\n",
    "insert_function(d_week_table_df, d_week_table_insert)"
   ]
  },
  {
   "source": [
    "### Insert data in d_weekday_table"
   ],
   "cell_type": "markdown",
   "metadata": {}
  },
  {
   "cell_type": "code",
   "execution_count": 18,
   "metadata": {},
   "outputs": [],
   "source": [
    "d_weekday_table_df = pd.read_csv(\"./tables/tables/d_weekday_table.csv\")\n",
    "insert_function(d_weekday_table_df, d_weekday_table_insert)"
   ]
  },
  {
   "source": [
    "### Insert data in d_year_table"
   ],
   "cell_type": "markdown",
   "metadata": {}
  },
  {
   "cell_type": "code",
   "execution_count": 19,
   "metadata": {},
   "outputs": [],
   "source": [
    "d_year_table_df = pd.read_csv(\"./tables/tables/d_year_table.csv\")\n",
    "insert_function(d_year_table_df, d_year_table_insert)"
   ]
  },
  {
   "source": [
    "### Insert data in state_table"
   ],
   "cell_type": "markdown",
   "metadata": {}
  },
  {
   "cell_type": "code",
   "execution_count": 20,
   "metadata": {},
   "outputs": [],
   "source": [
    "state_table_df = pd.read_csv(\"./tables/tables/state_table.csv\")\n",
    "state_table_df = state_table_df[[\"state_id\", \"state\", \"country_id\"]]\n",
    "insert_function(state_table_df, state_table_insert)"
   ]
  },
  {
   "source": [
    "### Insert data in pix_movements_table"
   ],
   "cell_type": "markdown",
   "metadata": {}
  },
  {
   "cell_type": "code",
   "execution_count": 21,
   "metadata": {},
   "outputs": [],
   "source": [
    "pix_movements_table_df = pd.read_csv(\"./tables/tables/pix_movements_table.csv\")\n",
    "tmp_df = \"./tables/tables/tmp.csv\"\n",
    "pix_movements_table_df.to_csv(tmp_df,index=False , header=False)\n",
    "f = open(tmp_df, 'r')\n",
    "cur.copy_from(f, \"pix_movements_table\", sep=\",\")\n",
    "conn.commit()"
   ]
  },
  {
   "source": [
    "### Insert data in transfer_ins_table"
   ],
   "cell_type": "markdown",
   "metadata": {}
  },
  {
   "cell_type": "code",
   "execution_count": 22,
   "metadata": {},
   "outputs": [],
   "source": [
    "transfer_ins_table_df = pd.read_csv(\"./tables/tables/transfer_ins_table.csv\")\n",
    "tmp_df = \"./tables/tables/tmp.csv\"\n",
    "transfer_ins_table_df.to_csv(tmp_df,index=False , header=False)\n",
    "f = open(tmp_df, 'r')\n",
    "cur.copy_from(f, \"transfer_ins_table\", sep=\",\")\n",
    "conn.commit()"
   ]
  },
  {
   "source": [
    "### Insert data in transfer_outs_table"
   ],
   "cell_type": "markdown",
   "metadata": {}
  },
  {
   "cell_type": "code",
   "execution_count": 23,
   "metadata": {},
   "outputs": [],
   "source": [
    "transfer_outs_table_df = pd.read_csv(\"./tables/tables/transfer_outs_table.csv\")\n",
    "tmp_df = \"./tables/tables/tmp.csv\"\n",
    "transfer_outs_table_df.to_csv(tmp_df,index=False , header=False)\n",
    "f = open(tmp_df, 'r')\n",
    "cur.copy_from(f, \"transfer_outs_table\", sep=\",\")\n",
    "conn.commit()"
   ]
  },
  {
   "source": [
    "### Insert data in fact_movements_table"
   ],
   "cell_type": "markdown",
   "metadata": {}
  },
  {
   "cell_type": "code",
   "execution_count": 24,
   "metadata": {},
   "outputs": [],
   "source": [
    "\n",
    "from_pix_df = pix_movements_table_df.join(accounts_df.set_index('account_id'), on='account_id',rsuffix=\"p_\")\n",
    "from_in_df = transfer_ins_table_df.join(accounts_df.set_index('account_id'), on='account_id',rsuffix=\"in_\")\n",
    "from_out_df = transfer_outs_table_df.join(accounts_df.set_index('account_id'), on='account_id',rsuffix=\"out_\")"
   ]
  },
  {
   "cell_type": "code",
   "execution_count": 25,
   "metadata": {},
   "outputs": [],
   "source": [
    "from_pix_df[\"in_or_out\"].replace({\"pix_out\": \"out\", \"pix_in\": \"in\"}, inplace=True)\n",
    "from_pix_df.insert(3,'type', 'pix')\n",
    "from_pix_df = from_pix_df[['id', 'account_id','customer_id','in_or_out','type' , 'pix_amount','pix_requested_at','pix_completed_at','status' ]]\n",
    "from_pix_df = from_pix_df.rename(columns={'pix_amount': 'amount', 'pix_requested_at': 'transaction_requested_at', 'pix_completed_at': 'transaction_completed_at'})\n",
    "from_in_df.insert(3,'in_or_out', 'in')\n",
    "from_out_df.insert(3,'in_or_out', 'out')\n",
    "from_in_df.insert(3,'type', 'transfer_in')\n",
    "from_out_df.insert(3,'type', 'transfer_out')\n",
    "\n",
    "from_in_df = from_in_df[['id', 'account_id','customer_id','in_or_out','type' , 'amount','transaction_requested_at','transaction_completed_at','status' ]]\n",
    "from_out_df = from_out_df[['id', 'account_id','customer_id','in_or_out','type' , 'amount','transaction_requested_at','transaction_completed_at','status' ]]"
   ]
  },
  {
   "cell_type": "code",
   "execution_count": 26,
   "metadata": {},
   "outputs": [],
   "source": [
    "fact_movements_table = from_pix_df.append([from_in_df, from_out_df])"
   ]
  },
  {
   "cell_type": "code",
   "execution_count": 27,
   "metadata": {},
   "outputs": [],
   "source": [
    "tmp_df = \"./tables/tables/tmp.csv\"\n",
    "fact_movements_table.to_csv(tmp_df,index=False , header=False)\n",
    "f = open(tmp_df, 'r')\n",
    "cur.copy_from(f, \"fact_movements_table\", sep=\",\")\n",
    "conn.commit()"
   ]
  },
  {
   "source": [
    "### Insert data in the dim_time_table\n",
    "\n"
   ],
   "cell_type": "markdown",
   "metadata": {}
  },
  {
   "cell_type": "code",
   "execution_count": 28,
   "metadata": {},
   "outputs": [],
   "source": [
    "dim_time_df = d_time_table_df.join(d_year_table_df.set_index('year_id'), on='year_id',rsuffix=\"y_\")\n",
    "dim_time_df = dim_time_df.join(d_month_table_df.set_index('month_id'), on='month_id',rsuffix=\"y_\")\n",
    "dim_time_df = dim_time_df.join(d_week_table_df.set_index('week_id'), on='week_id',rsuffix=\"y_\")\n",
    "dim_time_df = dim_time_df.join(d_weekday_table_df.set_index('weekday_id'), on='weekday_id',rsuffix=\"y_\")\n",
    "dim_time_df = dim_time_df[['time_id', 'action_timestamp', 'action_week', 'action_month', 'action_year',\t'action_weekday']]"
   ]
  },
  {
   "cell_type": "code",
   "execution_count": 29,
   "metadata": {},
   "outputs": [],
   "source": [
    "tmp_df = \"./tables/tables/tmp.csv\"\n",
    "dim_time_df.to_csv(tmp_df,index=False , header=False)\n",
    "f = open(tmp_df, 'r')\n",
    "cur.copy_from(f, \"dim_time_table\", sep=\",\")\n",
    "conn.commit()"
   ]
  },
  {
   "source": [
    "### Insert data in the dim_customer_table"
   ],
   "cell_type": "markdown",
   "metadata": {}
  },
  {
   "cell_type": "code",
   "execution_count": 30,
   "metadata": {},
   "outputs": [],
   "source": [
    "dim_customer_df = customers_df.join(city_df.set_index('city_id'), on='customer_city',rsuffix=\"city_\")\n",
    "dim_customer_df = dim_customer_df.join(state_table_df.set_index('state_id'), on='state_id',rsuffix=\"cost_\")\n",
    "dim_customer_df = dim_customer_df.join(country_df.set_index('country_id'), on='country_id',rsuffix=\"cost_\")\n",
    "dim_customer_df = dim_customer_df[['customer_id', 'first_name', 'last_name', 'city', 'state', 'country', 'cpf']]"
   ]
  },
  {
   "cell_type": "code",
   "execution_count": 31,
   "metadata": {},
   "outputs": [],
   "source": [
    "tmp_df = \"./tables/tables/tmp.csv\"\n",
    "dim_customer_df.to_csv(tmp_df,index=False , header=False)\n",
    "f = open(tmp_df, 'r')\n",
    "cur.copy_from(f, \"dim_customers_table\", sep=\",\")\n",
    "conn.commit()"
   ]
  },
  {
   "source": [
    "### Close connection"
   ],
   "cell_type": "markdown",
   "metadata": {}
  },
  {
   "cell_type": "code",
   "execution_count": 32,
   "metadata": {},
   "outputs": [],
   "source": [
    "conn.close()"
   ]
  }
 ],
 "metadata": {
  "kernelspec": {
   "name": "python3",
   "display_name": "Python 3.9.2 64-bit",
   "metadata": {
    "interpreter": {
     "hash": "b360fb411cca0da779d2857847145535feb4cb79f7ba56e63d93594bcd52d07f"
    }
   }
  },
  "language_info": {
   "codemirror_mode": {
    "name": "ipython",
    "version": 3
   },
   "file_extension": ".py",
   "mimetype": "text/x-python",
   "name": "python",
   "nbconvert_exporter": "python",
   "pygments_lexer": "ipython3",
   "version": "3.9.2-final"
  }
 },
 "nbformat": 4,
 "nbformat_minor": 4
}